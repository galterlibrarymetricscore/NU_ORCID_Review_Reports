version https://git-lfs.github.com/spec/v1
oid sha256:8a1598d41ada1b812a9ff9430368d93287bd39389bd70db7779b4ffb940c8935
size 586902
