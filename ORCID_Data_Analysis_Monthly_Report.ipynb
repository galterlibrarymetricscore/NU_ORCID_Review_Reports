version https://git-lfs.github.com/spec/v1
oid sha256:c6eaa63f7e0f1ea69b5afa30dcf5e68fc8f3a9697dba22602cf7af5aa0a28d2c
size 219852
